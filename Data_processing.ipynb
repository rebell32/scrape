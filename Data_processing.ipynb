{
 "cells": [
  {
   "cell_type": "code",
   "execution_count": 1,
   "id": "8ca6c50b-45d8-4292-937f-df72ebf5dbf8",
   "metadata": {},
   "outputs": [
    {
     "name": "stdout",
     "output_type": "stream",
     "text": [
      "Collecting tweepy\n",
      "  Downloading tweepy-4.14.0-py3-none-any.whl.metadata (3.8 kB)\n",
      "Collecting oauthlib<4,>=3.2.0 (from tweepy)\n",
      "  Downloading oauthlib-3.2.2-py3-none-any.whl.metadata (7.5 kB)\n",
      "Requirement already satisfied: requests<3,>=2.27.0 in /home/codespace/.local/lib/python3.12/site-packages (from tweepy) (2.32.3)\n",
      "Collecting requests-oauthlib<2,>=1.2.0 (from tweepy)\n",
      "  Downloading requests_oauthlib-1.3.1-py2.py3-none-any.whl.metadata (10 kB)\n",
      "Requirement already satisfied: charset-normalizer<4,>=2 in /home/codespace/.local/lib/python3.12/site-packages (from requests<3,>=2.27.0->tweepy) (3.4.0)\n",
      "Requirement already satisfied: idna<4,>=2.5 in /home/codespace/.local/lib/python3.12/site-packages (from requests<3,>=2.27.0->tweepy) (3.10)\n",
      "Requirement already satisfied: urllib3<3,>=1.21.1 in /home/codespace/.local/lib/python3.12/site-packages (from requests<3,>=2.27.0->tweepy) (2.2.3)\n",
      "Requirement already satisfied: certifi>=2017.4.17 in /home/codespace/.local/lib/python3.12/site-packages (from requests<3,>=2.27.0->tweepy) (2024.8.30)\n",
      "Downloading tweepy-4.14.0-py3-none-any.whl (98 kB)\n",
      "Downloading oauthlib-3.2.2-py3-none-any.whl (151 kB)\n",
      "Downloading requests_oauthlib-1.3.1-py2.py3-none-any.whl (23 kB)\n",
      "Installing collected packages: oauthlib, requests-oauthlib, tweepy\n",
      "Successfully installed oauthlib-3.2.2 requests-oauthlib-1.3.1 tweepy-4.14.0\n"
     ]
    }
   ],
   "source": [
    "!pip install tweepy"
   ]
  },
  {
   "cell_type": "code",
   "execution_count": 2,
   "id": "e5fc20ec-44d1-4eca-ae3c-4d7aa2601778",
   "metadata": {},
   "outputs": [
    {
     "name": "stdout",
     "output_type": "stream",
     "text": [
      "Collecting python-dotenv\n",
      "  Downloading python_dotenv-1.0.1-py3-none-any.whl.metadata (23 kB)\n",
      "Downloading python_dotenv-1.0.1-py3-none-any.whl (19 kB)\n",
      "Installing collected packages: python-dotenv\n",
      "Successfully installed python-dotenv-1.0.1\n"
     ]
    }
   ],
   "source": [
    "!pip install python-dotenv\n"
   ]
  },
  {
   "cell_type": "code",
   "execution_count": 4,
   "id": "09f63eec-0626-424f-9c1a-bd0cc382de32",
   "metadata": {},
   "outputs": [
    {
     "name": "stdout",
     "output_type": "stream",
     "text": [
      "Authentication successful!\n"
     ]
    }
   ],
   "source": [
    "import tweepy\n",
    "from dotenv import load_dotenv\n",
    "import os\n",
    "\n",
    "load_dotenv()\n",
    "# Replace with your credentials\n",
    "api_key = os.getenv(\"API_KEY\")\n",
    "api_secret = os.getenv(\"API_SECRET\")\n",
    "bearer_token = os.getenv(\"BEARER_TOKEN\")\n",
    "\n",
    "# Authenticate with the Bearer Token\n",
    "try:\n",
    "    client = tweepy.Client(bearer_token=bearer_token)\n",
    "    print(\"Authentication successful!\")\n",
    "except Exception as e:\n",
    "    print(f\"Error during authentication: {e}\")\n"
   ]
  },
  {
   "cell_type": "code",
   "execution_count": 3,
   "id": "22e41387-7491-4076-be31-37b24b827f75",
   "metadata": {},
   "outputs": [
    {
     "name": "stdout",
     "output_type": "stream",
     "text": [
      "Recent Tweets:\n",
      "RT @Ben_Mattinson_: Timber x Lewis-Skelly\n",
      "\n",
      "This duo is something else. I’m not over the fact we have 2 of this profile. They’re so similar.…\n",
      "RT @ToddJacksonVR: 🎉 The Q2C Quest 3S Giveaway is LIVE! 🎉\n",
      "\n",
      "🏆 Grand Prize:\n",
      "Meta Quest 3S (256GB)\n",
      "BHaptics X40 Vest\n",
      "Carrying Case + Q2C Hoodi…\n",
      "RT @SECTOR_RES0123: ✅New December stocks (jo acha karenge)\n",
      "1.IGIL CMP 575\n",
      "2.DAM CAPITAL CMP 415\n",
      "3.CE WATER 825\n",
      "4.VENTIVE HOSPITALITY CMP 75…\n",
      "#OracleFinancial 190.01% #Return in 6 Months \n",
      "\n",
      "Check Latest #ChartPattern on https://t.co/WFkicheo5l and follow @MySoctr \n",
      "\n",
      "#nifty #nifty50 #investing #breakoutstocks #StocksInFocus #StocksToWatch #stocks #StocksToBuy #StocksToTrade #StockMarket #trading #stockmarkets #Breakout… https://t.co/Wa6MBQfYTT https://t.co/VdsJw7a0nl\n",
      "RT @cvpayne: Is anyone watching those quantum computer stocks?  A few people have reached out - don't forget where you heard about them fir…\n",
      "RT @prabhakarkudva: Themes matter.\n",
      "\n",
      "If one studies stocks that did best in any given year, the big moves always have a big thematic tailwin…\n",
      "@0xSweep @WhaleEverything Also follow this crypto trader @Arthur_Lazare \n",
      "\n",
      "His recent trades was so accurate, I followed his advice and bought Some crypto and stocks and made $273,000 in profit.\n",
      "\n",
      "I think everyone should try to follow @Arthur_Lazare he's an amazing trader.\n",
      "@LLuciano_BTC @WhaleEverything Also follow this crypto trader @Arthur_Lazare \n",
      "\n",
      "His recent trades was so accurate, I followed his advice and bought Some crypto and stocks and made $273,000 in profit.\n",
      "\n",
      "I think everyone should try to follow @Arthur_Lazare he's an amazing trader.\n",
      "RT @RakJhun: 2025 Picks: 9 Quality Stocks with up to 31% upside potential. Last Year recommendations delivered astounding Return of 35.8% v…\n",
      "@BigdaddyRohit Contact Gordon on telegram https://t.co/XgvBky21Cy   His unique analyses and insights gave me a new perspective.\n",
      "\n",
      "I contacted him...bought two stocks and made $50,000 in a week.\n",
      "\n",
      "Thank him very much.\n"
     ]
    }
   ],
   "source": [
    "#search_recent_tweets-is a built-in method in the Tweepy library\n",
    "#client is the authenticated client object you created earlier using your Twitter API credentials.\n",
    "#query=\"stocks\",specifies search term\n",
    "try:\n",
    "    response = client.search_recent_tweets(query=\"stocks\", max_results=10)\n",
    "    print(\"Recent Tweets:\")\n",
    "    for tweet in response.data: #data: The actual tweets retrieved\n",
    "        print(tweet.text)\n",
    "except Exception as e:\n",
    "    print(f\"Error fetching tweets: {e}\")"
   ]
  },
  {
   "cell_type": "code",
   "execution_count": null,
   "id": "c4521b28-4efc-4200-814d-84f9f9359fc0",
   "metadata": {},
   "outputs": [],
   "source": []
  }
 ],
 "metadata": {
  "kernelspec": {
   "display_name": "Python 3 (ipykernel)",
   "language": "python",
   "name": "python3"
  },
  "language_info": {
   "codemirror_mode": {
    "name": "ipython",
    "version": 3
   },
   "file_extension": ".py",
   "mimetype": "text/x-python",
   "name": "python",
   "nbconvert_exporter": "python",
   "pygments_lexer": "ipython3",
   "version": "3.12.1"
  }
 },
 "nbformat": 4,
 "nbformat_minor": 5
}
